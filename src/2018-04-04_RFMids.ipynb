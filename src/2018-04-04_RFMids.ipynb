{
 "cells": [
  {
   "cell_type": "markdown",
   "metadata": {},
   "source": [
    "# Checking RFM IDs merging with vendor data\n",
    "In the initial set of files from Calibr, SMILES strings appeared to match fairly well with the SMILES contained in the vendor data. However, upon their conversion to unique Reframe IDs, the SMILES strings were regenerated and do not match well with the vendor's data-- even after desalting the compounds.\n",
    "\n",
    "## What this script looks at:\n",
    "- How many unique Calibr IDs are in each file?\n",
    "- How well do each of the three vendor data sets (GVK, Integrity, Informa) merge based on the internal Calibr HVAC ID, the SMILES strings, and the initial matching of the vendor data ids to the compounds."
   ]
  },
  {
   "cell_type": "code",
   "execution_count": 55,
   "metadata": {
    "collapsed": true
   },
   "outputs": [],
   "source": [
    "import pandas as pd"
   ]
  },
  {
   "cell_type": "code",
   "execution_count": 56,
   "metadata": {},
   "outputs": [
    {
     "data": {
      "text/html": [
       "<div>\n",
       "<style>\n",
       "    .dataframe thead tr:only-child th {\n",
       "        text-align: right;\n",
       "    }\n",
       "\n",
       "    .dataframe thead th {\n",
       "        text-align: left;\n",
       "    }\n",
       "\n",
       "    .dataframe tbody tr th {\n",
       "        vertical-align: top;\n",
       "    }\n",
       "</style>\n",
       "<table border=\"1\" class=\"dataframe\">\n",
       "  <thead>\n",
       "    <tr style=\"text-align: right;\">\n",
       "      <th></th>\n",
       "      <th>internal_id</th>\n",
       "      <th>initial_source</th>\n",
       "      <th>identifier_source</th>\n",
       "      <th>smiles</th>\n",
       "      <th>high_priority</th>\n",
       "      <th>integrity_equiv_id</th>\n",
       "      <th>citeline_equiv_id</th>\n",
       "      <th>gvk_equiv_id</th>\n",
       "      <th>name</th>\n",
       "      <th>drug_name</th>\n",
       "      <th>...</th>\n",
       "      <th>matching vendor smiles</th>\n",
       "      <th>smiles from batch</th>\n",
       "      <th>library</th>\n",
       "      <th>name.1</th>\n",
       "      <th>additional_comment</th>\n",
       "      <th>internal_id2</th>\n",
       "      <th>category</th>\n",
       "      <th>status</th>\n",
       "      <th>hvac_id_can status annotation</th>\n",
       "      <th>hvac_id</th>\n",
       "    </tr>\n",
       "  </thead>\n",
       "  <tbody>\n",
       "    <tr>\n",
       "      <th>0</th>\n",
       "      <td>CBR-HVAC-15267</td>\n",
       "      <td>integrity</td>\n",
       "      <td>91057</td>\n",
       "      <td>CCCC1O[C@H]2[C@](O1)(C(=O)CO)[C@@]1([C@@H](C2)...</td>\n",
       "      <td>NaN</td>\n",
       "      <td>91057.0</td>\n",
       "      <td>budesonide</td>\n",
       "      <td>5900149.0</td>\n",
       "      <td>Budesonide</td>\n",
       "      <td>BUDESONIDE</td>\n",
       "      <td>...</td>\n",
       "      <td>1.0</td>\n",
       "      <td>CCCC1O[C@H]2[C@](O1)(C(=O)CO)[C@@]1([C@@H](C2)...</td>\n",
       "      <td>(Kal) Sigma-Aldrich</td>\n",
       "      <td>BUDESONIDE</td>\n",
       "      <td>CBR-HVAC-15267: Breast Cancer-Resistant Protei...</td>\n",
       "      <td>CBR-HVAC-15267</td>\n",
       "      <td>Breast Cancer-Resistant Protein (BCRP; ABCG2) ...</td>\n",
       "      <td>CBR-HVAC-15267_assigned_and_unrevoked</td>\n",
       "      <td>CBR-HVAC-15267</td>\n",
       "      <td>NaN</td>\n",
       "    </tr>\n",
       "    <tr>\n",
       "      <th>1</th>\n",
       "      <td>CBR-HVAC-15267</td>\n",
       "      <td>integrity</td>\n",
       "      <td>91057</td>\n",
       "      <td>CCCC1O[C@H]2[C@](O1)(C(=O)CO)[C@@]1([C@@H](C2)...</td>\n",
       "      <td>NaN</td>\n",
       "      <td>91057.0</td>\n",
       "      <td>budesonide</td>\n",
       "      <td>5900149.0</td>\n",
       "      <td>Budesonide</td>\n",
       "      <td>BUDESONIDE</td>\n",
       "      <td>...</td>\n",
       "      <td>1.0</td>\n",
       "      <td>CCCC1O[C@H]2[C@](O1)(C(=O)CO)[C@@]1([C@@H](C2)...</td>\n",
       "      <td>(Kal) PRESTWICK</td>\n",
       "      <td>BUDESONIDE</td>\n",
       "      <td>CBR-HVAC-15267: Breast Cancer-Resistant Protei...</td>\n",
       "      <td>CBR-HVAC-15267</td>\n",
       "      <td>Breast Cancer-Resistant Protein (BCRP; ABCG2) ...</td>\n",
       "      <td>CBR-HVAC-15267_assigned_and_unrevoked</td>\n",
       "      <td>CBR-HVAC-15267</td>\n",
       "      <td>NaN</td>\n",
       "    </tr>\n",
       "    <tr>\n",
       "      <th>2</th>\n",
       "      <td>CBR-HVAC-15267</td>\n",
       "      <td>integrity</td>\n",
       "      <td>91057</td>\n",
       "      <td>CCCC1O[C@H]2[C@](O1)(C(=O)CO)[C@@]1([C@@H](C2)...</td>\n",
       "      <td>NaN</td>\n",
       "      <td>91057.0</td>\n",
       "      <td>budesonide</td>\n",
       "      <td>5900149.0</td>\n",
       "      <td>Budesonide</td>\n",
       "      <td>BUDESONIDE</td>\n",
       "      <td>...</td>\n",
       "      <td>1.0</td>\n",
       "      <td>CCCC1O[C@H]2[C@](O1)(C(=O)CO)[C@@]1([C@@H](C2)...</td>\n",
       "      <td>Sigma-Aldrich</td>\n",
       "      <td>Budesonide</td>\n",
       "      <td>CBR-HVAC-15267: Breast Cancer-Resistant Protei...</td>\n",
       "      <td>CBR-HVAC-15267</td>\n",
       "      <td>Breast Cancer-Resistant Protein (BCRP; ABCG2) ...</td>\n",
       "      <td>CBR-HVAC-15267_assigned_and_unrevoked</td>\n",
       "      <td>CBR-HVAC-15267</td>\n",
       "      <td>NaN</td>\n",
       "    </tr>\n",
       "    <tr>\n",
       "      <th>3</th>\n",
       "      <td>CBR-HVAC-04520</td>\n",
       "      <td>integrity</td>\n",
       "      <td>203367</td>\n",
       "      <td>c1([nH]c(=O)[nH]c(=O)n1)C(=O)[O-].[K+]</td>\n",
       "      <td>NaN</td>\n",
       "      <td>203367.0</td>\n",
       "      <td>NaN</td>\n",
       "      <td>NaN</td>\n",
       "      <td>Oteracil potassium</td>\n",
       "      <td>NaN</td>\n",
       "      <td>...</td>\n",
       "      <td>0.0</td>\n",
       "      <td>O=c1[nH]c(=O)[nH]c(n1)C(=O)[O-]</td>\n",
       "      <td>Combi Blocks</td>\n",
       "      <td>Oteracil potassium</td>\n",
       "      <td>CBR-HVAC-04520</td>\n",
       "      <td>CBR-HVAC-04520</td>\n",
       "      <td>NaN</td>\n",
       "      <td>CBR-HVAC-04520_assigned_and_unrevoked,CBR-HVAC...</td>\n",
       "      <td>CBR-HVAC-04520</td>\n",
       "      <td>RFM-000-001-1</td>\n",
       "    </tr>\n",
       "    <tr>\n",
       "      <th>4</th>\n",
       "      <td>CBR-HVAC-09007</td>\n",
       "      <td>gvk</td>\n",
       "      <td>16000946</td>\n",
       "      <td>OCC(COc1ccc(cc1)Cl)O</td>\n",
       "      <td>NaN</td>\n",
       "      <td>NaN</td>\n",
       "      <td>NaN</td>\n",
       "      <td>16000946.0</td>\n",
       "      <td>NaN</td>\n",
       "      <td>CHLORPHENESIN</td>\n",
       "      <td>...</td>\n",
       "      <td>1.0</td>\n",
       "      <td>OCC(COc1ccc(cc1)Cl)O</td>\n",
       "      <td>Combi Blocks</td>\n",
       "      <td>CHLORPHENESIN</td>\n",
       "      <td>CBR-HVAC-09007</td>\n",
       "      <td>CBR-HVAC-09007</td>\n",
       "      <td>Antifungal</td>\n",
       "      <td>CBR-HVAC-09007_assigned_and_unrevoked,CBR-HVAC...</td>\n",
       "      <td>CBR-HVAC-09007</td>\n",
       "      <td>RFM-000-003-3</td>\n",
       "    </tr>\n",
       "  </tbody>\n",
       "</table>\n",
       "<p>5 rows × 28 columns</p>\n",
       "</div>"
      ],
      "text/plain": [
       "      internal_id initial_source identifier_source  \\\n",
       "0  CBR-HVAC-15267      integrity             91057   \n",
       "1  CBR-HVAC-15267      integrity             91057   \n",
       "2  CBR-HVAC-15267      integrity             91057   \n",
       "3  CBR-HVAC-04520      integrity            203367   \n",
       "4  CBR-HVAC-09007            gvk          16000946   \n",
       "\n",
       "                                              smiles high_priority  \\\n",
       "0  CCCC1O[C@H]2[C@](O1)(C(=O)CO)[C@@]1([C@@H](C2)...           NaN   \n",
       "1  CCCC1O[C@H]2[C@](O1)(C(=O)CO)[C@@]1([C@@H](C2)...           NaN   \n",
       "2  CCCC1O[C@H]2[C@](O1)(C(=O)CO)[C@@]1([C@@H](C2)...           NaN   \n",
       "3             c1([nH]c(=O)[nH]c(=O)n1)C(=O)[O-].[K+]           NaN   \n",
       "4                               OCC(COc1ccc(cc1)Cl)O           NaN   \n",
       "\n",
       "   integrity_equiv_id citeline_equiv_id  gvk_equiv_id                name  \\\n",
       "0             91057.0        budesonide     5900149.0          Budesonide   \n",
       "1             91057.0        budesonide     5900149.0          Budesonide   \n",
       "2             91057.0        budesonide     5900149.0          Budesonide   \n",
       "3            203367.0               NaN           NaN  Oteracil potassium   \n",
       "4                 NaN               NaN    16000946.0                 NaN   \n",
       "\n",
       "       drug_name      ...        matching vendor smiles  \\\n",
       "0     BUDESONIDE      ...                           1.0   \n",
       "1     BUDESONIDE      ...                           1.0   \n",
       "2     BUDESONIDE      ...                           1.0   \n",
       "3            NaN      ...                           0.0   \n",
       "4  CHLORPHENESIN      ...                           1.0   \n",
       "\n",
       "                                   smiles from batch              library  \\\n",
       "0  CCCC1O[C@H]2[C@](O1)(C(=O)CO)[C@@]1([C@@H](C2)...  (Kal) Sigma-Aldrich   \n",
       "1  CCCC1O[C@H]2[C@](O1)(C(=O)CO)[C@@]1([C@@H](C2)...      (Kal) PRESTWICK   \n",
       "2  CCCC1O[C@H]2[C@](O1)(C(=O)CO)[C@@]1([C@@H](C2)...        Sigma-Aldrich   \n",
       "3                    O=c1[nH]c(=O)[nH]c(n1)C(=O)[O-]         Combi Blocks   \n",
       "4                               OCC(COc1ccc(cc1)Cl)O         Combi Blocks   \n",
       "\n",
       "               name.1                                 additional_comment  \\\n",
       "0          BUDESONIDE  CBR-HVAC-15267: Breast Cancer-Resistant Protei...   \n",
       "1          BUDESONIDE  CBR-HVAC-15267: Breast Cancer-Resistant Protei...   \n",
       "2          Budesonide  CBR-HVAC-15267: Breast Cancer-Resistant Protei...   \n",
       "3  Oteracil potassium                                     CBR-HVAC-04520   \n",
       "4       CHLORPHENESIN                                     CBR-HVAC-09007   \n",
       "\n",
       "     internal_id2                                           category  \\\n",
       "0  CBR-HVAC-15267  Breast Cancer-Resistant Protein (BCRP; ABCG2) ...   \n",
       "1  CBR-HVAC-15267  Breast Cancer-Resistant Protein (BCRP; ABCG2) ...   \n",
       "2  CBR-HVAC-15267  Breast Cancer-Resistant Protein (BCRP; ABCG2) ...   \n",
       "3  CBR-HVAC-04520                                                NaN   \n",
       "4  CBR-HVAC-09007                                         Antifungal   \n",
       "\n",
       "                                              status  \\\n",
       "0              CBR-HVAC-15267_assigned_and_unrevoked   \n",
       "1              CBR-HVAC-15267_assigned_and_unrevoked   \n",
       "2              CBR-HVAC-15267_assigned_and_unrevoked   \n",
       "3  CBR-HVAC-04520_assigned_and_unrevoked,CBR-HVAC...   \n",
       "4  CBR-HVAC-09007_assigned_and_unrevoked,CBR-HVAC...   \n",
       "\n",
       "   hvac_id_can status annotation        hvac_id  \n",
       "0                 CBR-HVAC-15267            NaN  \n",
       "1                 CBR-HVAC-15267            NaN  \n",
       "2                 CBR-HVAC-15267            NaN  \n",
       "3                 CBR-HVAC-04520  RFM-000-001-1  \n",
       "4                 CBR-HVAC-09007  RFM-000-003-3  \n",
       "\n",
       "[5 rows x 28 columns]"
      ]
     },
     "execution_count": 56,
     "metadata": {},
     "output_type": "execute_result"
    }
   ],
   "source": [
    "# Read in the core files\n",
    "rfm = pd.read_excel('/Users/laurahughes/Documents/repurpose/data/20180403_HVAC_info.xlsx')\n",
    "rfm.head()"
   ]
  },
  {
   "cell_type": "code",
   "execution_count": 57,
   "metadata": {},
   "outputs": [
    {
     "data": {
      "text/plain": [
       "True"
      ]
     },
     "execution_count": 57,
     "metadata": {},
     "output_type": "execute_result"
    }
   ],
   "source": [
    "# Checks: do all internal_id2 equal internal_id?\n",
    "x = rfm.apply(lambda x: x['internal_id'] == x['internal_id2'], axis = 1)\n",
    "all(x)\n",
    "# Conclusion: internal_id2 is equivalent to internal_id"
   ]
  },
  {
   "cell_type": "code",
   "execution_count": 131,
   "metadata": {},
   "outputs": [
    {
     "data": {
      "text/plain": [
       "0"
      ]
     },
     "execution_count": 131,
     "metadata": {},
     "output_type": "execute_result"
    }
   ],
   "source": [
    "sum(rfm.groupby('hvac_id').calibr_id.nunique() > 1)"
   ]
  },
  {
   "cell_type": "code",
   "execution_count": 128,
   "metadata": {},
   "outputs": [
    {
     "name": "stderr",
     "output_type": "stream",
     "text": [
      "/Users/laurahughes/anaconda3/lib/python3.6/site-packages/ipykernel_launcher.py:4: SettingWithCopyWarning: \n",
      "A value is trying to be set on a copy of a slice from a DataFrame\n",
      "\n",
      "See the caveats in the documentation: http://pandas.pydata.org/pandas-docs/stable/indexing.html#indexing-view-versus-copy\n",
      "  after removing the cwd from sys.path.\n",
      "/Users/laurahughes/anaconda3/lib/python3.6/site-packages/ipykernel_launcher.py:7: SettingWithCopyWarning: \n",
      "A value is trying to be set on a copy of a slice from a DataFrame\n",
      "\n",
      "See the caveats in the documentation: http://pandas.pydata.org/pandas-docs/stable/indexing.html#indexing-view-versus-copy\n",
      "  import sys\n",
      "/Users/laurahughes/anaconda3/lib/python3.6/site-packages/ipykernel_launcher.py:10: SettingWithCopyWarning: \n",
      "A value is trying to be set on a copy of a slice from a DataFrame\n",
      "\n",
      "See the caveats in the documentation: http://pandas.pydata.org/pandas-docs/stable/indexing.html#indexing-view-versus-copy\n",
      "  # Remove the CWD from sys.path while we load stuff.\n"
     ]
    }
   ],
   "source": [
    "# Create subsets of the RFM data which only contain \"matches\" for the dataset\n",
    "# Also drop duplicates, based on HVAC_ID, Vendor_ID, original SMILES string \n",
    "rfm_gvk = rfm[pd.notnull(rfm.gvk_equiv_id)]\n",
    "rfm_gvk.drop_duplicates(subset = ['gvk_equiv_id', 'smiles', 'internal_id', 'hvac_id'], inplace = True)\n",
    "\n",
    "rfm_int = rfm[pd.notnull(rfm.integrity_equiv_id)]\n",
    "rfm_int.drop_duplicates(subset = ['integrity_equiv_id', 'smiles', 'internal_id', 'hvac_id'], inplace = True)\n",
    "\n",
    "rfm_inf = rfm[pd.notnull(rfm.citeline_equiv_id)]\n",
    "rfm_inf.drop_duplicates(subset = ['citeline_equiv_id', 'smiles', 'internal_id', 'hvac_id'], inplace = True)"
   ]
  },
  {
   "cell_type": "code",
   "execution_count": 129,
   "metadata": {},
   "outputs": [
    {
     "data": {
      "text/plain": [
       "(11574, 28)"
      ]
     },
     "execution_count": 129,
     "metadata": {},
     "output_type": "execute_result"
    }
   ],
   "source": [
    "rfm_gvk.shape\n",
    "rfm_int.shape"
   ]
  },
  {
   "cell_type": "code",
   "execution_count": 116,
   "metadata": {},
   "outputs": [
    {
     "data": {
      "text/plain": [
       "8320"
      ]
     },
     "execution_count": 116,
     "metadata": {},
     "output_type": "execute_result"
    }
   ],
   "source": [
    "rfm_gvk.hvac_id.nunique()"
   ]
  },
  {
   "cell_type": "markdown",
   "metadata": {},
   "source": [
    "# GVK"
   ]
  },
  {
   "cell_type": "code",
   "execution_count": 59,
   "metadata": {},
   "outputs": [
    {
     "data": {
      "text/html": [
       "<div>\n",
       "<style>\n",
       "    .dataframe thead tr:only-child th {\n",
       "        text-align: right;\n",
       "    }\n",
       "\n",
       "    .dataframe thead th {\n",
       "        text-align: left;\n",
       "    }\n",
       "\n",
       "    .dataframe tbody tr th {\n",
       "        vertical-align: top;\n",
       "    }\n",
       "</style>\n",
       "<table border=\"1\" class=\"dataframe\">\n",
       "  <thead>\n",
       "    <tr style=\"text-align: right;\">\n",
       "      <th></th>\n",
       "      <th>Unnamed: 0</th>\n",
       "      <th>hvac_id</th>\n",
       "      <th>gvk_id</th>\n",
       "      <th>calibr_note</th>\n",
       "      <th>drug_name</th>\n",
       "      <th>phase</th>\n",
       "      <th>drug_roa</th>\n",
       "      <th>category</th>\n",
       "      <th>mechanism</th>\n",
       "      <th>sub_smiles</th>\n",
       "      <th>synonyms</th>\n",
       "      <th>ikey</th>\n",
       "    </tr>\n",
       "  </thead>\n",
       "  <tbody>\n",
       "    <tr>\n",
       "      <th>0</th>\n",
       "      <td>0</td>\n",
       "      <td>CBR-HVAC-00001</td>\n",
       "      <td>5916161</td>\n",
       "      <td>NaN</td>\n",
       "      <td>A-49816</td>\n",
       "      <td>Clinical Phase Unknown</td>\n",
       "      <td>NaN</td>\n",
       "      <td>High-Ceiling Diuretic</td>\n",
       "      <td>High-Ceiling Diuretic</td>\n",
       "      <td>Cl[H].[H]OC1=C(CN([H])[H])C=C(C=C1)C(=O)C2=CC=...</td>\n",
       "      <td>Abbott-49816</td>\n",
       "      <td>WYFYYAHANZQLGG-UHFFFAOYSA-N</td>\n",
       "    </tr>\n",
       "    <tr>\n",
       "      <th>1</th>\n",
       "      <td>1</td>\n",
       "      <td>CBR-HVAC-00002</td>\n",
       "      <td>5913712</td>\n",
       "      <td>NaN</td>\n",
       "      <td>ELMUSTINE</td>\n",
       "      <td>Clinical Phase Unknown</td>\n",
       "      <td>NaN</td>\n",
       "      <td>Anticancer</td>\n",
       "      <td>Anticancer</td>\n",
       "      <td>[H]OCCN([H])C(=O)N(CCCl)N=O</td>\n",
       "      <td>BRN-1956525; FFC-33; HECNU; Hecnu; NSC-294895</td>\n",
       "      <td>YJZJEQBSODVMTH-UHFFFAOYSA-N</td>\n",
       "    </tr>\n",
       "    <tr>\n",
       "      <th>2</th>\n",
       "      <td>2</td>\n",
       "      <td>CBR-HVAC-00003</td>\n",
       "      <td>17500746</td>\n",
       "      <td>NaN</td>\n",
       "      <td>CONTRAGESTAZOL</td>\n",
       "      <td>Preclinical</td>\n",
       "      <td>NaN</td>\n",
       "      <td>Immunosuppressant</td>\n",
       "      <td>Immunosuppressant</td>\n",
       "      <td>[H]N1N=C(N=C1C2=CC=CC(OC)=C2)C3=C(CC)C=CC=C3</td>\n",
       "      <td>DL-111; DL-111-IT; ST-1959</td>\n",
       "      <td>GXCZZAKPGMYPDJ-UHFFFAOYSA-N</td>\n",
       "    </tr>\n",
       "    <tr>\n",
       "      <th>3</th>\n",
       "      <td>3</td>\n",
       "      <td>CBR-HVAC-00004</td>\n",
       "      <td>5915803</td>\n",
       "      <td>NaN</td>\n",
       "      <td>CARBIZOCAINE HYDROCHLORIDE</td>\n",
       "      <td>Clinical Phase Unknown</td>\n",
       "      <td>Oral; Intravenous</td>\n",
       "      <td>Anesthetic</td>\n",
       "      <td>Anesthetic</td>\n",
       "      <td>Cl[H].[H]N(C(=O)OC(C)CN(CC)CC)C1=CC=CC=C1OCCCCCCC</td>\n",
       "      <td>BK-95; CCRIS-3899; Carbisocaine</td>\n",
       "      <td>JBWMXRJDMMPGCX-UHFFFAOYSA-N</td>\n",
       "    </tr>\n",
       "    <tr>\n",
       "      <th>4</th>\n",
       "      <td>4</td>\n",
       "      <td>CBR-HVAC-00005</td>\n",
       "      <td>5912196</td>\n",
       "      <td>NaN</td>\n",
       "      <td>NSC 224070</td>\n",
       "      <td>Clinical Phase Unknown</td>\n",
       "      <td>NaN</td>\n",
       "      <td>Anticancer</td>\n",
       "      <td>Anticancer</td>\n",
       "      <td>[H]OCCN([H])C1=C(N2CC2)C(=O)C(N([H])CCO[H])=C(...</td>\n",
       "      <td>BZQ; NSC-224070</td>\n",
       "      <td>MXNZCIQNSJMZST-UHFFFAOYSA-N</td>\n",
       "    </tr>\n",
       "  </tbody>\n",
       "</table>\n",
       "</div>"
      ],
      "text/plain": [
       "   Unnamed: 0         hvac_id    gvk_id calibr_note  \\\n",
       "0           0  CBR-HVAC-00001   5916161         NaN   \n",
       "1           1  CBR-HVAC-00002   5913712         NaN   \n",
       "2           2  CBR-HVAC-00003  17500746         NaN   \n",
       "3           3  CBR-HVAC-00004   5915803         NaN   \n",
       "4           4  CBR-HVAC-00005   5912196         NaN   \n",
       "\n",
       "                    drug_name                   phase           drug_roa  \\\n",
       "0                     A-49816  Clinical Phase Unknown                NaN   \n",
       "1                   ELMUSTINE  Clinical Phase Unknown                NaN   \n",
       "2              CONTRAGESTAZOL             Preclinical                NaN   \n",
       "3  CARBIZOCAINE HYDROCHLORIDE  Clinical Phase Unknown  Oral; Intravenous   \n",
       "4                  NSC 224070  Clinical Phase Unknown                NaN   \n",
       "\n",
       "                category              mechanism  \\\n",
       "0  High-Ceiling Diuretic  High-Ceiling Diuretic   \n",
       "1             Anticancer             Anticancer   \n",
       "2      Immunosuppressant      Immunosuppressant   \n",
       "3             Anesthetic             Anesthetic   \n",
       "4             Anticancer             Anticancer   \n",
       "\n",
       "                                          sub_smiles  \\\n",
       "0  Cl[H].[H]OC1=C(CN([H])[H])C=C(C=C1)C(=O)C2=CC=...   \n",
       "1                        [H]OCCN([H])C(=O)N(CCCl)N=O   \n",
       "2       [H]N1N=C(N=C1C2=CC=CC(OC)=C2)C3=C(CC)C=CC=C3   \n",
       "3  Cl[H].[H]N(C(=O)OC(C)CN(CC)CC)C1=CC=CC=C1OCCCCCCC   \n",
       "4  [H]OCCN([H])C1=C(N2CC2)C(=O)C(N([H])CCO[H])=C(...   \n",
       "\n",
       "                                        synonyms                         ikey  \n",
       "0                                   Abbott-49816  WYFYYAHANZQLGG-UHFFFAOYSA-N  \n",
       "1  BRN-1956525; FFC-33; HECNU; Hecnu; NSC-294895  YJZJEQBSODVMTH-UHFFFAOYSA-N  \n",
       "2                     DL-111; DL-111-IT; ST-1959  GXCZZAKPGMYPDJ-UHFFFAOYSA-N  \n",
       "3                BK-95; CCRIS-3899; Carbisocaine  JBWMXRJDMMPGCX-UHFFFAOYSA-N  \n",
       "4                                BZQ; NSC-224070  MXNZCIQNSJMZST-UHFFFAOYSA-N  "
      ]
     },
     "execution_count": 59,
     "metadata": {},
     "output_type": "execute_result"
    }
   ],
   "source": [
    "# GVK source file (from late 2017)\n",
    "gvk = pd.read_csv('/Users/laurahughes/Documents/repurpose/data/gvk_data_to_release.csv')\n",
    "gvk.head()"
   ]
  },
  {
   "cell_type": "markdown",
   "metadata": {},
   "source": [
    "## 2793 compounds in GVK dataset lack Calibr IDs"
   ]
  },
  {
   "cell_type": "code",
   "execution_count": 60,
   "metadata": {},
   "outputs": [
    {
     "name": "stdout",
     "output_type": "stream",
     "text": [
      "2793 compounds without HVAC ids removed\n"
     ]
    }
   ],
   "source": [
    "# Remove compounds in GVK that lack Calibr IDs\n",
    "gvk.shape\n",
    "gvk.hvac_id.nunique()\n",
    "\n",
    "print(str(len(gvk[pd.isnull(gvk.hvac_id)])) + \" compounds without HVAC ids removed\")\n",
    "\n",
    "gvk = gvk[pd.notnull(gvk.hvac_id)]\n",
    "\n"
   ]
  },
  {
   "cell_type": "markdown",
   "metadata": {},
   "source": [
    "## GVK merges\n",
    "* Merging based just on Calibr IDs shows 6 compounds in the vendor data which don't have a match in the RFM dataset.\n",
    "* Merging based on the GVK IDs identified in the RFM dataset is similar: 22 compounds don't match.\n",
    "* Combining the GVK + Calibr IDs --> 38 (< 1%)\n",
    "* Merging based on SMILES string performs more poorly: 9,434 don't join"
   ]
  },
  {
   "cell_type": "code",
   "execution_count": 61,
   "metadata": {},
   "outputs": [
    {
     "data": {
      "text/plain": [
       "both          11132\n",
       "left_only         6\n",
       "right_only        0\n",
       "Name: _merge, dtype: int64"
      ]
     },
     "execution_count": 61,
     "metadata": {},
     "output_type": "execute_result"
    }
   ],
   "source": [
    "# Just based on Calibr IDs\n",
    "gvk1 = pd.merge(gvk, rfm, left_on = [\"hvac_id\"], right_on = [\"internal_id\"], how=\"left\", indicator=True)\n",
    "gvk1._merge.value_counts()"
   ]
  },
  {
   "cell_type": "code",
   "execution_count": 62,
   "metadata": {},
   "outputs": [
    {
     "data": {
      "text/plain": [
       "left_only     9434\n",
       "both          1017\n",
       "right_only       0\n",
       "Name: _merge, dtype: int64"
      ]
     },
     "execution_count": 62,
     "metadata": {},
     "output_type": "execute_result"
    }
   ],
   "source": [
    "# Just based on SMILES strings (original SMILES generation)\n",
    "gvk2 = pd.merge(gvk, rfm, left_on = [\"sub_smiles\"], right_on = [\"smiles\"], how=\"left\", indicator=True)\n",
    "gvk2._merge.value_counts()"
   ]
  },
  {
   "cell_type": "code",
   "execution_count": 63,
   "metadata": {},
   "outputs": [
    {
     "data": {
      "text/plain": [
       "both          21925\n",
       "left_only     10363\n",
       "right_only        0\n",
       "Name: _merge, dtype: int64"
      ]
     },
     "execution_count": 63,
     "metadata": {},
     "output_type": "execute_result"
    }
   ],
   "source": [
    "# based on second SMILES batch generation\n",
    "gvk3 = pd.merge(gvk, rfm, left_on = [\"sub_smiles\"], right_on = [\"smiles from batch\"], how=\"left\", indicator=True)\n",
    "gvk3._merge.value_counts()"
   ]
  },
  {
   "cell_type": "code",
   "execution_count": 64,
   "metadata": {},
   "outputs": [
    {
     "data": {
      "text/plain": [
       "both          11324\n",
       "left_only        22\n",
       "right_only        0\n",
       "Name: _merge, dtype: int64"
      ]
     },
     "execution_count": 64,
     "metadata": {},
     "output_type": "execute_result"
    }
   ],
   "source": [
    "# Just based on GVK ID\n",
    "gvk4 = pd.merge(gvk, rfm, left_on = [\"gvk_id\"], right_on = [\"gvk_equiv_id\"], how=\"left\", indicator=True)\n",
    "gvk4._merge.value_counts()"
   ]
  },
  {
   "cell_type": "code",
   "execution_count": 65,
   "metadata": {},
   "outputs": [
    {
     "data": {
      "text/plain": [
       "both          11097\n",
       "left_only        38\n",
       "right_only        0\n",
       "Name: _merge, dtype: int64"
      ]
     },
     "execution_count": 65,
     "metadata": {},
     "output_type": "execute_result"
    }
   ],
   "source": [
    "# Based on GVK ID + HVAC ID\n",
    "gvk4 = pd.merge(gvk, rfm, left_on = [\"gvk_id\", \"hvac_id\"], right_on = [\"gvk_equiv_id\", \"internal_id\"], how=\"left\", indicator=True)\n",
    "gvk4._merge.value_counts()"
   ]
  },
  {
   "cell_type": "code",
   "execution_count": 124,
   "metadata": {},
   "outputs": [
    {
     "data": {
      "text/plain": [
       "both          11068\n",
       "right_only      893\n",
       "left_only        38\n",
       "Name: _merge, dtype: int64"
      ]
     },
     "execution_count": 124,
     "metadata": {},
     "output_type": "execute_result"
    }
   ],
   "source": [
    "# Full merge of all reframe data which contains a GVK ID, based on GVK ID + HVAC ID\n",
    "gvk5 = pd.merge(gvk, rfm_gvk, left_on = [\"gvk_id\", \"hvac_id\"], right_on = [\"gvk_equiv_id\", \"internal_id\"], how=\"outer\", indicator=True)\n",
    "gvk5._merge.value_counts()"
   ]
  },
  {
   "cell_type": "code",
   "execution_count": 125,
   "metadata": {},
   "outputs": [
    {
     "data": {
      "text/plain": [
       "11961"
      ]
     },
     "execution_count": 125,
     "metadata": {},
     "output_type": "execute_result"
    }
   ],
   "source": [
    "893/len(rfm_gvk)\n",
    "38/len(gvk)\n",
    "len(gvk)\n",
    "\n",
    "len(rfm_gvk)"
   ]
  },
  {
   "cell_type": "markdown",
   "metadata": {},
   "source": [
    "## GVK Summary\n",
    "Calibr ID + GVK ID matches pretty well (though not perfectly) to the two datasets.  \n",
    "* 893 compounds (7%) are in the RFM dataset with a GVK but NOT in the GVK vendor dataset\n",
    "* 38 compounds (0.4%) of GVK vendor data which has a Calibr HVAC id don't match\n",
    "* 11,068 / 11,961 match"
   ]
  },
  {
   "cell_type": "markdown",
   "metadata": {},
   "source": [
    "# Integrity"
   ]
  },
  {
   "cell_type": "code",
   "execution_count": 70,
   "metadata": {},
   "outputs": [
    {
     "data": {
      "text/html": [
       "<div>\n",
       "<style>\n",
       "    .dataframe thead tr:only-child th {\n",
       "        text-align: right;\n",
       "    }\n",
       "\n",
       "    .dataframe thead th {\n",
       "        text-align: left;\n",
       "    }\n",
       "\n",
       "    .dataframe tbody tr th {\n",
       "        vertical-align: top;\n",
       "    }\n",
       "</style>\n",
       "<table border=\"1\" class=\"dataframe\">\n",
       "  <thead>\n",
       "    <tr style=\"text-align: right;\">\n",
       "      <th></th>\n",
       "      <th>Unnamed: 0</th>\n",
       "      <th>id</th>\n",
       "      <th>smiles</th>\n",
       "      <th>name</th>\n",
       "      <th>status</th>\n",
       "      <th>int_thera_group</th>\n",
       "      <th>int_MoA</th>\n",
       "      <th>calibr_note</th>\n",
       "      <th>ikey</th>\n",
       "      <th>wikidata</th>\n",
       "      <th>PubChem CID</th>\n",
       "    </tr>\n",
       "  </thead>\n",
       "  <tbody>\n",
       "    <tr>\n",
       "      <th>0</th>\n",
       "      <td>0</td>\n",
       "      <td>70002</td>\n",
       "      <td>C[C@]12C[C@@H]([C@H]3[C@H]([C@@H]1CC[C@@]2(C(=...</td>\n",
       "      <td>Prednisolone</td>\n",
       "      <td>Launched</td>\n",
       "      <td>Muscular Dystrophy, Agents for; Asthma Therapy...</td>\n",
       "      <td>NaN</td>\n",
       "      <td>NaN</td>\n",
       "      <td>OIGNJSKKLXVSLS-VWUMJDOOSA-N</td>\n",
       "      <td>Q11426176</td>\n",
       "      <td>CID5755</td>\n",
       "    </tr>\n",
       "    <tr>\n",
       "      <th>1</th>\n",
       "      <td>1</td>\n",
       "      <td>70003</td>\n",
       "      <td>C[C@H]1C[C@H]2[C@@H]3CC[C@@]([C@]3(C[C@@H]([C@...</td>\n",
       "      <td>Methylprednisolone</td>\n",
       "      <td>Launched</td>\n",
       "      <td>Lymphocytic Leukemia Therapy; Antiallergy/Anti...</td>\n",
       "      <td>NaN</td>\n",
       "      <td>NaN</td>\n",
       "      <td>VHRSUDSXCMQTMA-PJHHCJLFSA-N</td>\n",
       "      <td>Q417222</td>\n",
       "      <td>CID6741</td>\n",
       "    </tr>\n",
       "    <tr>\n",
       "      <th>2</th>\n",
       "      <td>2</td>\n",
       "      <td>70005</td>\n",
       "      <td>Cc1ncc(n1CCO)[N+](=O)[O-]</td>\n",
       "      <td>Metronidazole</td>\n",
       "      <td>Launched</td>\n",
       "      <td>Treatment of Tuberculosis; Acne Therapy; Infla...</td>\n",
       "      <td>Cytochrome P450 CYP1A2 Inhibitors</td>\n",
       "      <td>NaN</td>\n",
       "      <td>VAOCPAMSLUNLGC-UHFFFAOYSA-N</td>\n",
       "      <td>Q169569</td>\n",
       "      <td>CID4173</td>\n",
       "    </tr>\n",
       "    <tr>\n",
       "      <th>3</th>\n",
       "      <td>3</td>\n",
       "      <td>70008</td>\n",
       "      <td>C[C@H]1c2cccc(c2C(=O)C3=C([C@]4([C@@H]([C@H]([...</td>\n",
       "      <td>Doxycycline hydrate</td>\n",
       "      <td>Launched</td>\n",
       "      <td>Antibiotics; Female Reproductive System Cancer...</td>\n",
       "      <td>Matrix Metalloproteinase Inhibitors; Protein-A...</td>\n",
       "      <td>NaN</td>\n",
       "      <td>XQTWDDCIUJNLTR-CVHRZJFOSA-N</td>\n",
       "      <td>Q27128318</td>\n",
       "      <td>NaN</td>\n",
       "    </tr>\n",
       "    <tr>\n",
       "      <th>4</th>\n",
       "      <td>4</td>\n",
       "      <td>70009</td>\n",
       "      <td>c1c(c(nc(=O)[nH]1)N)F</td>\n",
       "      <td>Flucytosine</td>\n",
       "      <td>Launched</td>\n",
       "      <td>Antifungal Agents</td>\n",
       "      <td>NaN</td>\n",
       "      <td>NaN</td>\n",
       "      <td>XRECTZIEBJDKEO-UHFFFAOYSA-N</td>\n",
       "      <td>Q238490</td>\n",
       "      <td>CID3366</td>\n",
       "    </tr>\n",
       "  </tbody>\n",
       "</table>\n",
       "</div>"
      ],
      "text/plain": [
       "   Unnamed: 0     id                                             smiles  \\\n",
       "0           0  70002  C[C@]12C[C@@H]([C@H]3[C@H]([C@@H]1CC[C@@]2(C(=...   \n",
       "1           1  70003  C[C@H]1C[C@H]2[C@@H]3CC[C@@]([C@]3(C[C@@H]([C@...   \n",
       "2           2  70005                          Cc1ncc(n1CCO)[N+](=O)[O-]   \n",
       "3           3  70008  C[C@H]1c2cccc(c2C(=O)C3=C([C@]4([C@@H]([C@H]([...   \n",
       "4           4  70009                              c1c(c(nc(=O)[nH]1)N)F   \n",
       "\n",
       "                  name    status  \\\n",
       "0         Prednisolone  Launched   \n",
       "1   Methylprednisolone  Launched   \n",
       "2        Metronidazole  Launched   \n",
       "3  Doxycycline hydrate  Launched   \n",
       "4          Flucytosine  Launched   \n",
       "\n",
       "                                     int_thera_group  \\\n",
       "0  Muscular Dystrophy, Agents for; Asthma Therapy...   \n",
       "1  Lymphocytic Leukemia Therapy; Antiallergy/Anti...   \n",
       "2  Treatment of Tuberculosis; Acne Therapy; Infla...   \n",
       "3  Antibiotics; Female Reproductive System Cancer...   \n",
       "4                                  Antifungal Agents   \n",
       "\n",
       "                                             int_MoA calibr_note  \\\n",
       "0                                                NaN         NaN   \n",
       "1                                                NaN         NaN   \n",
       "2                  Cytochrome P450 CYP1A2 Inhibitors         NaN   \n",
       "3  Matrix Metalloproteinase Inhibitors; Protein-A...         NaN   \n",
       "4                                                NaN         NaN   \n",
       "\n",
       "                          ikey   wikidata PubChem CID  \n",
       "0  OIGNJSKKLXVSLS-VWUMJDOOSA-N  Q11426176     CID5755  \n",
       "1  VHRSUDSXCMQTMA-PJHHCJLFSA-N    Q417222     CID6741  \n",
       "2  VAOCPAMSLUNLGC-UHFFFAOYSA-N    Q169569     CID4173  \n",
       "3  XQTWDDCIUJNLTR-CVHRZJFOSA-N  Q27128318         NaN  \n",
       "4  XRECTZIEBJDKEO-UHFFFAOYSA-N    Q238490     CID3366  "
      ]
     },
     "execution_count": 70,
     "metadata": {},
     "output_type": "execute_result"
    }
   ],
   "source": [
    "# import integrity data\n",
    "integrity = pd.read_csv('/Users/laurahughes/Documents/repurpose/data/integrity_annot_20171220.csv')\n",
    "integrity.head()"
   ]
  },
  {
   "cell_type": "code",
   "execution_count": 71,
   "metadata": {},
   "outputs": [
    {
     "data": {
      "text/plain": [
       "both          5640\n",
       "left_only     5408\n",
       "right_only       0\n",
       "Name: _merge, dtype: int64"
      ]
     },
     "execution_count": 71,
     "metadata": {},
     "output_type": "execute_result"
    }
   ],
   "source": [
    "# Based on SMILES (original)\n",
    "int2 = pd.merge(integrity, rfm, left_on = [\"smiles\"], right_on = [\"smiles\"], how=\"outer\", indicator=True)\n",
    "int2._merge.value_counts()"
   ]
  },
  {
   "cell_type": "code",
   "execution_count": 72,
   "metadata": {},
   "outputs": [
    {
     "data": {
      "text/plain": [
       "both          3413426\n",
       "left_only        9654\n",
       "right_only          0\n",
       "Name: _merge, dtype: int64"
      ]
     },
     "execution_count": 72,
     "metadata": {},
     "output_type": "execute_result"
    }
   ],
   "source": [
    "# Based on SMILES (original)\n",
    "int3 = pd.merge(integrity, rfm, left_on = [\"smiles\"], right_on = [\"smiles from batch\"], how=\"outer\", indicator=True)\n",
    "int3._merge.value_counts()"
   ]
  }
 ],
 "metadata": {
  "kernelspec": {
   "display_name": "Python 3",
   "language": "python",
   "name": "python3"
  },
  "language_info": {
   "codemirror_mode": {
    "name": "ipython",
    "version": 3
   },
   "file_extension": ".py",
   "mimetype": "text/x-python",
   "name": "python",
   "nbconvert_exporter": "python",
   "pygments_lexer": "ipython3",
   "version": "3.6.3"
  }
 },
 "nbformat": 4,
 "nbformat_minor": 2
}
