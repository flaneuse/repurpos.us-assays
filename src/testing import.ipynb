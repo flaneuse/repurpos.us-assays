{
 "cells": [
  {
   "cell_type": "code",
   "execution_count": 1,
   "metadata": {
    "collapsed": true
   },
   "outputs": [],
   "source": [
    "import pandas as pd"
   ]
  },
  {
   "cell_type": "code",
   "execution_count": 2,
   "metadata": {
    "collapsed": true
   },
   "outputs": [],
   "source": [
    "file_name = \"data/assay_descriptions.csv\""
   ]
  },
  {
   "cell_type": "code",
   "execution_count": 3,
   "metadata": {},
   "outputs": [],
   "source": [
    "df = pd.read_csv(file_name)"
   ]
  },
  {
   "cell_type": "code",
   "execution_count": 4,
   "metadata": {},
   "outputs": [
    {
     "data": {
      "text/html": [
       "<div>\n",
       "<style>\n",
       "    .dataframe thead tr:only-child th {\n",
       "        text-align: right;\n",
       "    }\n",
       "\n",
       "    .dataframe thead th {\n",
       "        text-align: left;\n",
       "    }\n",
       "\n",
       "    .dataframe tbody tr th {\n",
       "        vertical-align: top;\n",
       "    }\n",
       "</style>\n",
       "<table border=\"1\" class=\"dataframe\">\n",
       "  <thead>\n",
       "    <tr style=\"text-align: right;\">\n",
       "      <th></th>\n",
       "      <th>assay_id</th>\n",
       "      <th>title</th>\n",
       "      <th>assay_name</th>\n",
       "      <th>genedata_id</th>\n",
       "      <th>summary</th>\n",
       "      <th>type (binding, functional, ADMET)</th>\n",
       "      <th>purpose</th>\n",
       "      <th>CHEMBL_link</th>\n",
       "      <th>host_organism</th>\n",
       "      <th>strain</th>\n",
       "      <th>...</th>\n",
       "      <th>detection_method (UV-Vis, Fluorescence, Luminescence)</th>\n",
       "      <th>dye</th>\n",
       "      <th>dye_concentration</th>\n",
       "      <th>wavelength_abs/ex</th>\n",
       "      <th>wavelength_em</th>\n",
       "      <th>protocol_link</th>\n",
       "      <th>incubation_link</th>\n",
       "      <th>incubation_description</th>\n",
       "      <th>detection_link</th>\n",
       "      <th>detection_description</th>\n",
       "    </tr>\n",
       "  </thead>\n",
       "  <tbody>\n",
       "    <tr>\n",
       "      <th>0</th>\n",
       "      <td>EXAMPLE</td>\n",
       "      <td>HepG2 cytotoxicity assay</td>\n",
       "      <td>HepG2 72-h cytotoxicity assay</td>\n",
       "      <td>A000000</td>\n",
       "      <td>NaN</td>\n",
       "      <td>toxicity</td>\n",
       "      <td>cancer screen</td>\n",
       "      <td>NaN</td>\n",
       "      <td>Homo sapiens</td>\n",
       "      <td>HepG2</td>\n",
       "      <td>...</td>\n",
       "      <td>NaN</td>\n",
       "      <td>NaN</td>\n",
       "      <td>NaN</td>\n",
       "      <td>NaN</td>\n",
       "      <td>NaN</td>\n",
       "      <td>NaN</td>\n",
       "      <td>NaN</td>\n",
       "      <td>NaN</td>\n",
       "      <td>NaN</td>\n",
       "      <td>NaN</td>\n",
       "    </tr>\n",
       "    <tr>\n",
       "      <th>1</th>\n",
       "      <td>EXAMPLE</td>\n",
       "      <td>Inhibition of aminoacyl-tRNA synthetases</td>\n",
       "      <td>TBaaRS Rhodamine/Malachite inhibitor screen</td>\n",
       "      <td>A000000</td>\n",
       "      <td>NaN</td>\n",
       "      <td>binding</td>\n",
       "      <td>tuberculosis screen</td>\n",
       "      <td>NaN</td>\n",
       "      <td>NaN</td>\n",
       "      <td>NaN</td>\n",
       "      <td>...</td>\n",
       "      <td>NaN</td>\n",
       "      <td>NaN</td>\n",
       "      <td>NaN</td>\n",
       "      <td>NaN</td>\n",
       "      <td>NaN</td>\n",
       "      <td>NaN</td>\n",
       "      <td>NaN</td>\n",
       "      <td>NaN</td>\n",
       "      <td>NaN</td>\n",
       "      <td>NaN</td>\n",
       "    </tr>\n",
       "    <tr>\n",
       "      <th>2</th>\n",
       "      <td>0</td>\n",
       "      <td>NaN</td>\n",
       "      <td>example</td>\n",
       "      <td>A00000</td>\n",
       "      <td>NaN</td>\n",
       "      <td>cell_death</td>\n",
       "      <td>NaN</td>\n",
       "      <td>NaN</td>\n",
       "      <td>Homo sapiens</td>\n",
       "      <td>HEK293T</td>\n",
       "      <td>...</td>\n",
       "      <td>Fluroescence</td>\n",
       "      <td>Sybr Green I</td>\n",
       "      <td>NaN</td>\n",
       "      <td>512.0</td>\n",
       "      <td>550.0</td>\n",
       "      <td>https://ac.els-cdn.com/S0223523411008579/1-s2....</td>\n",
       "      <td>NaN</td>\n",
       "      <td>MTT-formazan absorption of the samples was mea...</td>\n",
       "      <td>NaN</td>\n",
       "      <td>NaN</td>\n",
       "    </tr>\n",
       "    <tr>\n",
       "      <th>3</th>\n",
       "      <td>1</td>\n",
       "      <td>NaN</td>\n",
       "      <td>72-h P. falciparum Dd2- SybrGreen viability assay</td>\n",
       "      <td>A00154</td>\n",
       "      <td>NaN</td>\n",
       "      <td>cell_death</td>\n",
       "      <td>malaria</td>\n",
       "      <td>NaN</td>\n",
       "      <td>NaN</td>\n",
       "      <td>NaN</td>\n",
       "      <td>...</td>\n",
       "      <td>NaN</td>\n",
       "      <td>NaN</td>\n",
       "      <td>NaN</td>\n",
       "      <td>NaN</td>\n",
       "      <td>NaN</td>\n",
       "      <td>NaN</td>\n",
       "      <td>NaN</td>\n",
       "      <td>NaN</td>\n",
       "      <td>NaN</td>\n",
       "      <td>NaN</td>\n",
       "    </tr>\n",
       "    <tr>\n",
       "      <th>4</th>\n",
       "      <td>2</td>\n",
       "      <td>NaN</td>\n",
       "      <td>Acinetobacter (1536w) 24h BTG Viability Assay</td>\n",
       "      <td>A00187</td>\n",
       "      <td>NaN</td>\n",
       "      <td>cell_death</td>\n",
       "      <td>bacteria --&gt; UTIs, etc.</td>\n",
       "      <td>NaN</td>\n",
       "      <td>NaN</td>\n",
       "      <td>NaN</td>\n",
       "      <td>...</td>\n",
       "      <td>NaN</td>\n",
       "      <td>NaN</td>\n",
       "      <td>NaN</td>\n",
       "      <td>NaN</td>\n",
       "      <td>NaN</td>\n",
       "      <td>NaN</td>\n",
       "      <td>NaN</td>\n",
       "      <td>NaN</td>\n",
       "      <td>NaN</td>\n",
       "      <td>NaN</td>\n",
       "    </tr>\n",
       "  </tbody>\n",
       "</table>\n",
       "<p>5 rows × 25 columns</p>\n",
       "</div>"
      ],
      "text/plain": [
       "  assay_id                                     title  \\\n",
       "0  EXAMPLE                  HepG2 cytotoxicity assay   \n",
       "1  EXAMPLE  Inhibition of aminoacyl-tRNA synthetases   \n",
       "2        0                                       NaN   \n",
       "3        1                                       NaN   \n",
       "4        2                                       NaN   \n",
       "\n",
       "                                          assay_name genedata_id  summary  \\\n",
       "0                      HepG2 72-h cytotoxicity assay     A000000      NaN   \n",
       "1        TBaaRS Rhodamine/Malachite inhibitor screen     A000000      NaN   \n",
       "2                                            example      A00000      NaN   \n",
       "3  72-h P. falciparum Dd2- SybrGreen viability assay      A00154      NaN   \n",
       "4      Acinetobacter (1536w) 24h BTG Viability Assay      A00187      NaN   \n",
       "\n",
       "  type (binding, functional, ADMET)                  purpose  CHEMBL_link  \\\n",
       "0                          toxicity            cancer screen          NaN   \n",
       "1                           binding      tuberculosis screen          NaN   \n",
       "2                        cell_death                      NaN          NaN   \n",
       "3                        cell_death                  malaria          NaN   \n",
       "4                        cell_death  bacteria --> UTIs, etc.          NaN   \n",
       "\n",
       "  host_organism   strain          ...            \\\n",
       "0  Homo sapiens    HepG2          ...             \n",
       "1           NaN      NaN          ...             \n",
       "2  Homo sapiens  HEK293T          ...             \n",
       "3           NaN      NaN          ...             \n",
       "4           NaN      NaN          ...             \n",
       "\n",
       "   detection_method (UV-Vis, Fluorescence, Luminescence)           dye  \\\n",
       "0                                                NaN               NaN   \n",
       "1                                                NaN               NaN   \n",
       "2                                       Fluroescence      Sybr Green I   \n",
       "3                                                NaN               NaN   \n",
       "4                                                NaN               NaN   \n",
       "\n",
       "   dye_concentration  wavelength_abs/ex wavelength_em  \\\n",
       "0                NaN                NaN           NaN   \n",
       "1                NaN                NaN           NaN   \n",
       "2                NaN              512.0         550.0   \n",
       "3                NaN                NaN           NaN   \n",
       "4                NaN                NaN           NaN   \n",
       "\n",
       "                                       protocol_link incubation_link  \\\n",
       "0                                                NaN             NaN   \n",
       "1                                                NaN             NaN   \n",
       "2  https://ac.els-cdn.com/S0223523411008579/1-s2....             NaN   \n",
       "3                                                NaN             NaN   \n",
       "4                                                NaN             NaN   \n",
       "\n",
       "                              incubation_description  detection_link  \\\n",
       "0                                                NaN             NaN   \n",
       "1                                                NaN             NaN   \n",
       "2  MTT-formazan absorption of the samples was mea...             NaN   \n",
       "3                                                NaN             NaN   \n",
       "4                                                NaN             NaN   \n",
       "\n",
       "   detection_description  \n",
       "0                    NaN  \n",
       "1                    NaN  \n",
       "2                    NaN  \n",
       "3                    NaN  \n",
       "4                    NaN  \n",
       "\n",
       "[5 rows x 25 columns]"
      ]
     },
     "execution_count": 4,
     "metadata": {},
     "output_type": "execute_result"
    }
   ],
   "source": [
    "df.head()"
   ]
  },
  {
   "cell_type": "code",
   "execution_count": 13,
   "metadata": {},
   "outputs": [
    {
     "data": {
      "text/plain": [
       "'Inhibition of aminoacyl-tRNA synthetases'"
      ]
     },
     "execution_count": 13,
     "metadata": {},
     "output_type": "execute_result"
    }
   ],
   "source": [
    "df.title[1]"
   ]
  },
  {
   "cell_type": "code",
   "execution_count": 16,
   "metadata": {},
   "outputs": [
    {
     "data": {
      "text/html": [
       "<div>\n",
       "<style>\n",
       "    .dataframe thead tr:only-child th {\n",
       "        text-align: right;\n",
       "    }\n",
       "\n",
       "    .dataframe thead th {\n",
       "        text-align: left;\n",
       "    }\n",
       "\n",
       "    .dataframe tbody tr th {\n",
       "        vertical-align: top;\n",
       "    }\n",
       "</style>\n",
       "<table border=\"1\" class=\"dataframe\">\n",
       "  <thead>\n",
       "    <tr style=\"text-align: right;\">\n",
       "      <th></th>\n",
       "      <th>assay_id</th>\n",
       "      <th>title</th>\n",
       "      <th>assay_name</th>\n",
       "      <th>genedata_id</th>\n",
       "      <th>summary</th>\n",
       "      <th>type (binding, functional, ADMET)</th>\n",
       "      <th>purpose</th>\n",
       "      <th>CHEMBL_link</th>\n",
       "      <th>host_organism</th>\n",
       "      <th>strain</th>\n",
       "      <th>...</th>\n",
       "      <th>detection_method (UV-Vis, Fluorescence, Luminescence)</th>\n",
       "      <th>dye</th>\n",
       "      <th>dye_concentration</th>\n",
       "      <th>wavelength_abs/ex</th>\n",
       "      <th>wavelength_em</th>\n",
       "      <th>protocol_link</th>\n",
       "      <th>incubation_link</th>\n",
       "      <th>incubation_description</th>\n",
       "      <th>detection_link</th>\n",
       "      <th>detection_description</th>\n",
       "    </tr>\n",
       "  </thead>\n",
       "  <tbody>\n",
       "    <tr>\n",
       "      <th>1</th>\n",
       "      <td>EXAMPLE</td>\n",
       "      <td>Inhibition of aminoacyl-tRNA synthetases</td>\n",
       "      <td>TBaaRS Rhodamine/Malachite inhibitor screen</td>\n",
       "      <td>A000000</td>\n",
       "      <td>NaN</td>\n",
       "      <td>binding</td>\n",
       "      <td>tuberculosis screen</td>\n",
       "      <td>NaN</td>\n",
       "      <td>NaN</td>\n",
       "      <td>NaN</td>\n",
       "      <td>...</td>\n",
       "      <td>NaN</td>\n",
       "      <td>NaN</td>\n",
       "      <td>NaN</td>\n",
       "      <td>NaN</td>\n",
       "      <td>NaN</td>\n",
       "      <td>NaN</td>\n",
       "      <td>NaN</td>\n",
       "      <td>NaN</td>\n",
       "      <td>NaN</td>\n",
       "      <td>NaN</td>\n",
       "    </tr>\n",
       "  </tbody>\n",
       "</table>\n",
       "<p>1 rows × 25 columns</p>\n",
       "</div>"
      ],
      "text/plain": [
       "  assay_id                                     title  \\\n",
       "1  EXAMPLE  Inhibition of aminoacyl-tRNA synthetases   \n",
       "\n",
       "                                    assay_name genedata_id  summary  \\\n",
       "1  TBaaRS Rhodamine/Malachite inhibitor screen     A000000      NaN   \n",
       "\n",
       "  type (binding, functional, ADMET)              purpose  CHEMBL_link  \\\n",
       "1                           binding  tuberculosis screen          NaN   \n",
       "\n",
       "  host_organism strain          ...            \\\n",
       "1           NaN    NaN          ...             \n",
       "\n",
       "   detection_method (UV-Vis, Fluorescence, Luminescence)  dye  \\\n",
       "1                                                NaN      NaN   \n",
       "\n",
       "   dye_concentration  wavelength_abs/ex wavelength_em protocol_link  \\\n",
       "1                NaN                NaN           NaN           NaN   \n",
       "\n",
       "  incubation_link  incubation_description  detection_link  \\\n",
       "1             NaN                     NaN             NaN   \n",
       "\n",
       "   detection_description  \n",
       "1                    NaN  \n",
       "\n",
       "[1 rows x 25 columns]"
      ]
     },
     "execution_count": 16,
     "metadata": {},
     "output_type": "execute_result"
    }
   ],
   "source": [
    "row1 = df.iloc[[1]]\n",
    "row1"
   ]
  },
  {
   "cell_type": "code",
   "execution_count": 17,
   "metadata": {},
   "outputs": [
    {
     "data": {
      "text/plain": [
       "1    Inhibition of aminoacyl-tRNA synthetases\n",
       "Name: title, dtype: object"
      ]
     },
     "execution_count": 17,
     "metadata": {},
     "output_type": "execute_result"
    }
   ],
   "source": [
    "row1.title"
   ]
  },
  {
   "cell_type": "code",
   "execution_count": 21,
   "metadata": {},
   "outputs": [
    {
     "data": {
      "text/plain": [
       "1    Inhibition of aminoacyl-tRNA synthetasesBLAH\n",
       "Name: title, dtype: object"
      ]
     },
     "execution_count": 21,
     "metadata": {},
     "output_type": "execute_result"
    }
   ],
   "source": [
    "row1['title'] + \"BLAH\""
   ]
  },
  {
   "cell_type": "code",
   "execution_count": 26,
   "metadata": {},
   "outputs": [
    {
     "data": {
      "text/plain": [
       "'Inhibition of aminoacyl-tRNA synthetases'"
      ]
     },
     "execution_count": 26,
     "metadata": {},
     "output_type": "execute_result"
    }
   ],
   "source": [
    "row1.get_value(1,'title')"
   ]
  },
  {
   "cell_type": "code",
   "execution_count": 41,
   "metadata": {},
   "outputs": [
    {
     "data": {
      "text/plain": [
       "{'CHEMBL_link': {1: nan},\n",
       " 'assay_id': {1: 'EXAMPLE'},\n",
       " 'assay_name': {1: 'TBaaRS Rhodamine/Malachite inhibitor screen'},\n",
       " 'assay_provider': {1: nan},\n",
       " 'cell_provider': {1: nan},\n",
       " 'detection_description': {1: nan},\n",
       " 'detection_link': {1: nan},\n",
       " 'detection_method (UV-Vis, Fluorescence, Luminescence)': {1: nan},\n",
       " 'dye': {1: nan},\n",
       " 'dye_concentration': {1: nan},\n",
       " 'genedata_id': {1: 'A000000'},\n",
       " 'host_organism': {1: nan},\n",
       " 'hours_incubation': {1: nan},\n",
       " 'incubation_description': {1: nan},\n",
       " 'incubation_link': {1: nan},\n",
       " 'inhibitor_target': {1: nan},\n",
       " 'protocol_link': {1: nan},\n",
       " 'purpose': {1: 'tuberculosis screen'},\n",
       " 'strain': {1: nan},\n",
       " 'summary': {1: nan},\n",
       " 'temperature_celsius': {1: nan},\n",
       " 'title': {1: 'Inhibition of aminoacyl-tRNA synthetases'},\n",
       " 'type (binding, functional, ADMET)': {1: 'binding'},\n",
       " 'wavelength_abs/ex': {1: nan},\n",
       " 'wavelength_em': {1: nan}}"
      ]
     },
     "execution_count": 41,
     "metadata": {},
     "output_type": "execute_result"
    }
   ],
   "source": [
    "dict1 = row1.to_dict()\n",
    "dict1"
   ]
  },
  {
   "cell_type": "code",
   "execution_count": 45,
   "metadata": {},
   "outputs": [
    {
     "data": {
      "text/plain": [
       "'Inhibition of aminoacyl-tRNA synthetases'"
      ]
     },
     "execution_count": 45,
     "metadata": {},
     "output_type": "execute_result"
    }
   ],
   "source": [
    "dict1['title'][1]"
   ]
  },
  {
   "cell_type": "code",
   "execution_count": 47,
   "metadata": {},
   "outputs": [
    {
     "data": {
      "text/plain": [
       "'HepG2 cytotoxicity assay'"
      ]
     },
     "execution_count": 47,
     "metadata": {},
     "output_type": "execute_result"
    }
   ],
   "source": [
    "df.at[0,'title']"
   ]
  },
  {
   "cell_type": "code",
   "execution_count": null,
   "metadata": {
    "collapsed": true
   },
   "outputs": [],
   "source": []
  }
 ],
 "metadata": {
  "kernelspec": {
   "display_name": "Python 3",
   "language": "python",
   "name": "python3"
  },
  "language_info": {
   "codemirror_mode": {
    "name": "ipython",
    "version": 3
   },
   "file_extension": ".py",
   "mimetype": "text/x-python",
   "name": "python",
   "nbconvert_exporter": "python",
   "pygments_lexer": "ipython3",
   "version": "3.6.3"
  }
 },
 "nbformat": 4,
 "nbformat_minor": 2
}
